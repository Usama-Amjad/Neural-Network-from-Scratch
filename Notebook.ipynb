{
  "cells": [
    {
      "cell_type": "markdown",
      "metadata": {
        "id": "E1VOmcA0U0Zr"
      },
      "source": [
        "# Neural Network from Scratch in TensorFlow"
      ]
    },
    {
      "cell_type": "markdown",
      "metadata": {
        "id": "9gDFynsIU0Zu"
      },
      "source": [
        "# Task 1: Introduction and Importing Libraries"
      ]
    },
    {
      "cell_type": "code",
      "execution_count": 2,
      "metadata": {
        "colab": {
          "base_uri": "https://localhost:8080/"
        },
        "id": "50-XZZINU0Zu",
        "outputId": "511b9e15-89e4-481c-f102-3857561147f9"
      },
      "outputs": [
        {
          "output_type": "stream",
          "name": "stdout",
          "text": [
            "TensorFlow Version: 2.12.0\n"
          ]
        }
      ],
      "source": [
        "import tensorflow as tf\n",
        "import numpy as np\n",
        "import matplotlib.pyplot as plt\n",
        "import nn_utils\n",
        "%matplotlib inline\n",
        "\n",
        "print('TensorFlow Version:', tf.__version__)"
      ]
    },
    {
      "cell_type": "markdown",
      "metadata": {
        "id": "ilAp9v5_U0Zw"
      },
      "source": [
        "# Task 2: Initializing Neural Network"
      ]
    },
    {
      "cell_type": "code",
      "execution_count": 4,
      "metadata": {
        "id": "JQhIh81vU0Zw"
      },
      "outputs": [],
      "source": [
        "class NeuralNetwork:\n",
        "    def __init__(self, layers):\n",
        "        self.layers = layers\n",
        "        self.L = len(layers)\n",
        "        self.num_features = layers[0] ##Number of features\n",
        "        self.num_classes = layers[-1] ##Number of otput classes\n",
        "        \n",
        "        self.W = {}\n",
        "        self.b = {}\n",
        "        \n",
        "        self.dW = {}\n",
        "        self.db = {}\n",
        "        \n",
        "        self.setup()\n",
        "        \n",
        "    def setup(self):\n",
        "        # Your code here\n",
        "        for i in range(1,self.L):\n",
        "          self.W[i] = tf.Variable(tf.random.normal(shape=(self.layers[i],self.layers[i-1])))\n",
        "          self.b[i]=tf.Variable(tf.random.normal(shape=(self.layers[i],1)))"
      ]
    },
    {
      "cell_type": "markdown",
      "metadata": {
        "id": "7cv0t6hAU0Zw"
      },
      "source": [
        "# Task 3: Forward Pass"
      ]
    },
    {
      "cell_type": "code",
      "execution_count": 6,
      "metadata": {
        "id": "v0adA0WlU0Zx"
      },
      "outputs": [],
      "source": [
        "class NeuralNetwork(NeuralNetwork):\n",
        "    def forward_pass(self, X): # X is input here\n",
        "        A = tf.convert_to_tensor(X,dtype=tf.float32)\n",
        "        for i in range(1,self.L):\n",
        "          Z = tf.matmul(A,tf.transpose(self.W[i]))+tf.transpose(self.b[i])# Z is the linear output\n",
        "          if i != self.L-1: # If the layers is not the final layer\n",
        "            # Setting up activation for hidden layers\n",
        "            A = tf.nn.relu(Z)\n",
        "          else: \n",
        "            # Setting up AF for final layer\n",
        "            A = Z\n",
        "        return A"
      ]
    },
    {
      "cell_type": "markdown",
      "metadata": {
        "id": "xwzTHEeqU0Zx"
      },
      "source": [
        "# Task 4: Computing Loss and Updating Parameters"
      ]
    },
    {
      "cell_type": "code",
      "execution_count": null,
      "metadata": {
        "id": "pDvN9Y9aU0Zx"
      },
      "outputs": [],
      "source": [
        "class NeuralNetwork(NeuralNetwork):\n",
        "    # Your code here"
      ]
    },
    {
      "cell_type": "markdown",
      "metadata": {
        "id": "3XHPwdWhU0Zy"
      },
      "source": [
        "# Task 5: Predict and Info Functions"
      ]
    },
    {
      "cell_type": "code",
      "execution_count": null,
      "metadata": {
        "id": "JFMiIIIfU0Zy"
      },
      "outputs": [],
      "source": [
        "class NeuralNetwork(NeuralNetwork):\n",
        "    def predict(self, X):\n",
        "        # Your code here\n",
        "    \n",
        "    def info(self):\n",
        "        num_params = 0\n",
        "        for i in range(1, self.L):\n",
        "            num_params += self.W[i].shape[0] * self.W[i].shape[1]\n",
        "            num_params += self.b[i].shape[0]\n",
        "        print('Input Features:', self.num_features)\n",
        "        print('Number of Classes:', self.num_classes)\n",
        "        print('Hidden Layers:')\n",
        "        print('--------------')\n",
        "        for i in range(1, self.L-1):\n",
        "            print('Layer {}, Units {}'.format(i, self.layers[i]))\n",
        "        print('--------------')\n",
        "        print('Number of parameters:', num_params)"
      ]
    },
    {
      "cell_type": "markdown",
      "metadata": {
        "id": "E8GcWi5OU0Zy"
      },
      "source": [
        "# Task 6: Training on Batch"
      ]
    },
    {
      "cell_type": "code",
      "execution_count": null,
      "metadata": {
        "id": "WzNWO9tiU0Z0"
      },
      "outputs": [],
      "source": [
        "class NeuralNetwork(NeuralNetwork):\n",
        "    def train_on_batch(self, X, Y, lr):\n",
        "        # Your code here"
      ]
    },
    {
      "cell_type": "markdown",
      "metadata": {
        "id": "4kAz5POvU0Z1"
      },
      "source": [
        "# Task 7: Training on Complete Set"
      ]
    },
    {
      "cell_type": "code",
      "execution_count": null,
      "metadata": {
        "id": "DC-mxw-zU0Z2"
      },
      "outputs": [],
      "source": [
        "class NeuralNetwork(NeuralNetwork):\n",
        "    def train(self, x_train, y_train, x_test, y_test, epochs, steps_per_epoch, batch_size, lr):\n",
        "        # Your code here"
      ]
    },
    {
      "cell_type": "markdown",
      "metadata": {
        "id": "y86fU19RU0Z3"
      },
      "source": [
        "# Task 8: Application"
      ]
    },
    {
      "cell_type": "code",
      "execution_count": null,
      "metadata": {
        "id": "HHN2h-dHU0Z3"
      },
      "outputs": [],
      "source": []
    },
    {
      "cell_type": "code",
      "execution_count": null,
      "metadata": {
        "id": "gGzHh4D4U0Z3"
      },
      "outputs": [],
      "source": []
    },
    {
      "cell_type": "code",
      "execution_count": null,
      "metadata": {
        "id": "k9zH6HIJU0Z3"
      },
      "outputs": [],
      "source": []
    },
    {
      "cell_type": "code",
      "execution_count": null,
      "metadata": {
        "id": "Kd1t85vOU0Z3"
      },
      "outputs": [],
      "source": []
    },
    {
      "cell_type": "markdown",
      "metadata": {
        "id": "zl_04HGlU0Z3"
      },
      "source": [
        "# Task 9: Results"
      ]
    },
    {
      "cell_type": "code",
      "execution_count": null,
      "metadata": {
        "id": "x8S-twZ3U0Z4"
      },
      "outputs": [],
      "source": []
    },
    {
      "cell_type": "code",
      "execution_count": null,
      "metadata": {
        "id": "IY8ZKKaDU0Z4"
      },
      "outputs": [],
      "source": []
    },
    {
      "cell_type": "code",
      "execution_count": null,
      "metadata": {
        "id": "O4_PUinCU0Z4"
      },
      "outputs": [],
      "source": []
    },
    {
      "cell_type": "code",
      "execution_count": null,
      "metadata": {
        "id": "MvCtduyNU0Z4"
      },
      "outputs": [],
      "source": []
    }
  ],
  "metadata": {
    "kernelspec": {
      "display_name": "Python 3",
      "language": "python",
      "name": "python3"
    },
    "language_info": {
      "codemirror_mode": {
        "name": "ipython",
        "version": 3
      },
      "file_extension": ".py",
      "mimetype": "text/x-python",
      "name": "python",
      "nbconvert_exporter": "python",
      "pygments_lexer": "ipython3",
      "version": "3.7.0"
    },
    "colab": {
      "provenance": []
    }
  },
  "nbformat": 4,
  "nbformat_minor": 0
}